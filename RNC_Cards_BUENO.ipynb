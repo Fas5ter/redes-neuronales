{
 "cells": [
  {
   "cell_type": "markdown",
   "metadata": {
    "id": "6XF6kD76gJiA"
   },
   "source": [
    "\n",
    "# Estudiantes:\n",
    "## Cristian Armando Larios Bravo\n",
    "\n",
    "# Red Neuronal: **RNC**\n",
    "# Dataset: **Papaya Ringspot**\n"
   ]
  },
  {
   "cell_type": "code",
   "execution_count": 11,
   "metadata": {
    "id": "eDNLIhLef4QY"
   },
   "outputs": [],
   "source": [
    "# Importacion de librerias\n",
    "%matplotlib inline\n",
    "\n",
    "# import matplotlib.pyplot as plt\n",
    "import os\n",
    "import torch\n",
    "# from torch import nn\n",
    "from torch import optim\n",
    "from torch.utils.data import DataLoader, Dataset\n",
    "from torchvision import datasets, transforms\n",
    "from torchvision.datasets import ImageFolder\n",
    "from PIL import Image\n",
    "from torch.nn import functional as Fun\n",
    "import torch.nn as nn"
   ]
  },
  {
   "cell_type": "code",
   "execution_count": 12,
   "metadata": {
    "id": "WIw4RHGbggYo"
   },
   "outputs": [],
   "source": [
    "class RNC(nn.Module):\n",
    "    def __init__(self, num_classes):\n",
    "        super(RNC, self).__init__()\n",
    "        self.conv1 = nn.Conv2d(in_channels=3, out_channels=224, kernel_size=3, stride=1, padding=1)\n",
    "        self.pool = nn.MaxPool2d(kernel_size=2)\n",
    "        self.conv2 = nn.Conv2d(in_channels=224, out_channels=224, kernel_size=3, stride=1, padding=1)\n",
    "        self.conv3 = nn.Conv2d(in_channels=224, out_channels=224, kernel_size=3, stride=1, padding=1)\n",
    "        self.drop = nn.Dropout2d(p=0.2)\n",
    "\n",
    "        # Capa totalmente conectada (se actualizará dinámicamente)\n",
    "        self.fc = nn.Linear(in_features=224 * 28 * 28, out_features=num_classes)\n",
    "\n",
    "    def forward(self, x):\n",
    "        x = Fun.relu(self.conv1(x))\n",
    "        x = self.pool(x)\n",
    "        x = Fun.relu(self.conv2(x))\n",
    "        x = self.pool(x)\n",
    "        x = Fun.relu(self.conv3(x))\n",
    "        x = self.pool(x)\n",
    "        \n",
    "        x = self.drop(x)\n",
    "        # print(\"Shape after convolutions and pooling:\", x.shape)\n",
    "        print(\"Forma después de convoluciones y agrupamiento:\", x.shape)\n",
    "        \n",
    "        x = torch.flatten(x, start_dim=1)\n",
    "        # print(\"Shape after flattening:\", x.shape)\n",
    "        print(\"Forma después de aplanar:\", x.shape)\n",
    "        \n",
    "        x = self.fc(x)\n",
    "        return Fun.log_softmax(x, dim=1)\n"
   ]
  },
  {
   "cell_type": "code",
   "execution_count": 13,
   "metadata": {
    "id": "Yppif72ti2J7"
   },
   "outputs": [],
   "source": [
    "def train(model: RNC, device, train_loader, optimizer, epoch):\n",
    "  # Set model to training mode\n",
    "  model.train()\n",
    "  train_loss = 0\n",
    "  print(\"Época:\", epoch)\n",
    "\n",
    "  # Process the image in batches\n",
    "  for batch_idx, (data, target) in enumerate(train_loader):\n",
    "    # Move the data to the selected device\n",
    "    data, target = data.to(device), target.to(device)\n",
    "\n",
    "    # Reset the optimizer\n",
    "    optimizer.zero_grad()\n",
    "\n",
    "    # Push the data forward through the model layers\n",
    "    output = model(data)\n",
    "\n",
    "    # Get the loss\n",
    "    loss = Fun.nll_loss(output, target)\n",
    "\n",
    "    # Keep a running total\n",
    "    train_loss += loss.item()\n",
    "\n",
    "    # Backpropagate\n",
    "    loss.backward()\n",
    "    optimizer.step()\n",
    "    # train_loss += Fun.nll_loss(output, target, size_average=False).data.item()\n",
    "\n",
    "    # return average loss for epoch\n",
    "    avg_loss = train_loss / (batch_idx+1)\n",
    "  # print('\\nTrain set: Average loss: {:.6f}'.format(avg_loss))\n",
    "  print(\"\\nConjunto de entrenamiento: Pérdida promedio: {:.6f}\".format(avg_loss))\n",
    "  return avg_loss"
   ]
  },
  {
   "cell_type": "code",
   "execution_count": 14,
   "metadata": {
    "colab": {
     "base_uri": "https://localhost:8080/",
     "height": 372
    },
    "id": "g0_NfPlLowve",
    "outputId": "991d3d70-cc41-49d5-d115-8fbb4e45b5fe"
   },
   "outputs": [],
   "source": [
    "from torchvision import datasets, transforms\n",
    "from torch.utils.data import DataLoader\n",
    "\n",
    "# Define data transformations (if needed)\n",
    "data_transforms = transforms.Compose([\n",
    "    transforms.Resize((224, 224)), # Resize if necessary\n",
    "    transforms.ToTensor(),\n",
    "])\n",
    "\n",
    "# Create datasets using ImageFolder\n",
    "train_dataset = datasets.ImageFolder(root='Cards/Train', transform=data_transforms)\n",
    "test_dataset = datasets.ImageFolder(root='Cards/Test', transform=data_transforms)\n",
    "\n",
    "# Create data loaders\n",
    "train_loader = DataLoader(train_dataset, batch_size=32, shuffle=True)\n",
    "test_loader = DataLoader(test_dataset, batch_size=32, shuffle=False)"
   ]
  },
  {
   "cell_type": "code",
   "execution_count": 15,
   "metadata": {
    "colab": {
     "base_uri": "https://localhost:8080/"
    },
    "id": "ykLBkUJemchW",
    "outputId": "449fc5c8-2c8e-40c8-a27e-cc32b94f82ea"
   },
   "outputs": [
    {
     "name": "stdout",
     "output_type": "stream",
     "text": [
      "Época: 1\n",
      "Forma después de convoluciones y agrupamiento: torch.Size([32, 224, 28, 28])\n",
      "Forma después de aplanar: torch.Size([32, 175616])\n",
      "Forma después de convoluciones y agrupamiento: torch.Size([32, 224, 28, 28])\n",
      "Forma después de aplanar: torch.Size([32, 175616])\n",
      "Forma después de convoluciones y agrupamiento: torch.Size([32, 224, 28, 28])\n",
      "Forma después de aplanar: torch.Size([32, 175616])\n",
      "Forma después de convoluciones y agrupamiento: torch.Size([32, 224, 28, 28])\n",
      "Forma después de aplanar: torch.Size([32, 175616])\n",
      "Forma después de convoluciones y agrupamiento: torch.Size([32, 224, 28, 28])\n",
      "Forma después de aplanar: torch.Size([32, 175616])\n",
      "Forma después de convoluciones y agrupamiento: torch.Size([16, 224, 28, 28])\n",
      "Forma después de aplanar: torch.Size([16, 175616])\n",
      "\n",
      "Conjunto de entrenamiento: Pérdida promedio: 0.111401\n"
     ]
    }
   ],
   "source": [
    "modelo = RNC(num_classes=2)\n",
    "optimizer = optim.Adam(modelo.parameters(), lr=0.001)\n",
    "avg_loss = train(modelo, 'cpu', train_loader, optimizer, epoch=100)"
   ]
  },
  {
   "cell_type": "code",
   "execution_count": 16,
   "metadata": {},
   "outputs": [],
   "source": [
    "def test(model: RNC, device, test_loader):\n",
    "    model.eval()  # Configura el modelo en modo de evaluación\n",
    "    test_loss = 0\n",
    "    correct = 0\n",
    "    with torch.no_grad():  # No necesitamos calcular gradientes\n",
    "        for data, target in test_loader:\n",
    "            data, target = data.to(device), target.to(device)\n",
    "            output = model(data)\n",
    "            test_loss += Fun.nll_loss(output, target, reduction='sum').item()  # Suma el loss por lote\n",
    "            pred = output.argmax(dim=1, keepdim=True)  # Obtén la clase predicha\n",
    "            correct += pred.eq(target.view_as(pred)).sum().item()\n",
    "\n",
    "    # Calcula el promedio de pérdida y precisión\n",
    "    test_loss /= len(test_loader.dataset)\n",
    "    accuracy = 100. * correct / len(test_loader.dataset)\n",
    "    # print('\\nTest set: Average loss: {:.4f}, Accuracy: {}/{} ({:.0f}%)\\n'.format(\n",
    "    print('\\nConjunto de prueba: Pérdida promedio: {:.4f}, Precisión: {}/{} ({:.0f}%)\\n'.format(\n",
    "        test_loss, correct, len(test_loader.dataset), accuracy))\n",
    "    return test_loss, accuracy"
   ]
  },
  {
   "cell_type": "code",
   "execution_count": 17,
   "metadata": {},
   "outputs": [
    {
     "name": "stdout",
     "output_type": "stream",
     "text": [
      "Forma después de convoluciones y agrupamiento: torch.Size([5, 224, 28, 28])\n",
      "Forma después de aplanar: torch.Size([5, 175616])\n",
      "\n",
      "Conjunto de prueba: Pérdida promedio: 0.0000, Precisión: 5/5 (100%)\n",
      "\n"
     ]
    }
   ],
   "source": [
    "device = 'cpu'  # O 'cuda' si tienes una GPU disponible\n",
    "test_loss, test_accuracy = test(modelo, device, test_loader)"
   ]
  },
  {
   "cell_type": "code",
   "execution_count": 18,
   "metadata": {},
   "outputs": [
    {
     "name": "stdout",
     "output_type": "stream",
     "text": [
      "Modelo guardado en 'modelo_rnc.pth'\n"
     ]
    }
   ],
   "source": [
    "torch.save(modelo.state_dict(), \"modelo_rnc.pth\")\n",
    "print(\"Modelo guardado en 'modelo_rnc.pth'\")"
   ]
  },
  {
   "cell_type": "code",
   "execution_count": 19,
   "metadata": {},
   "outputs": [
    {
     "name": "stdout",
     "output_type": "stream",
     "text": [
      "Modelo cargado correctamente\n"
     ]
    },
    {
     "name": "stderr",
     "output_type": "stream",
     "text": [
      "C:\\Users\\Cristian\\AppData\\Local\\Temp\\ipykernel_45680\\1251869089.py:2: FutureWarning: You are using `torch.load` with `weights_only=False` (the current default value), which uses the default pickle module implicitly. It is possible to construct malicious pickle data which will execute arbitrary code during unpickling (See https://github.com/pytorch/pytorch/blob/main/SECURITY.md#untrusted-models for more details). In a future release, the default value for `weights_only` will be flipped to `True`. This limits the functions that could be executed during unpickling. Arbitrary objects will no longer be allowed to be loaded via this mode unless they are explicitly allowlisted by the user via `torch.serialization.add_safe_globals`. We recommend you start setting `weights_only=True` for any use case where you don't have full control of the loaded file. Please open an issue on GitHub for any issues related to this experimental feature.\n",
      "  modelo_cargado.load_state_dict(torch.load(\"modelo_rnc.pth\"))\n"
     ]
    }
   ],
   "source": [
    "modelo_cargado = RNC(num_classes=2)  # Asegúrate de definir correctamente la arquitectura\n",
    "modelo_cargado.load_state_dict(torch.load(\"modelo_rnc.pth\"))\n",
    "modelo_cargado.eval()\n",
    "print(\"Modelo cargado correctamente\")"
   ]
  },
  {
   "cell_type": "code",
   "execution_count": 20,
   "metadata": {},
   "outputs": [
    {
     "name": "stdout",
     "output_type": "stream",
     "text": [
      "Forma después de convoluciones y agrupamiento: torch.Size([5, 224, 28, 28])\n",
      "Forma después de aplanar: torch.Size([5, 175616])\n",
      "\n",
      "Conjunto de prueba: Pérdida promedio: 0.0000, Precisión: 5/5 (100%)\n",
      "\n"
     ]
    }
   ],
   "source": [
    "test_loss2, test_accuracy2 = test(modelo_cargado, device, test_loader)"
   ]
  }
 ],
 "metadata": {
  "colab": {
   "collapsed_sections": [
    "bz1kHy_Wf4OY",
    "uzqQjawuf6ep",
    "55_oNPaynpHS"
   ],
   "provenance": []
  },
  "kernelspec": {
   "display_name": "Python 3",
   "name": "python3"
  },
  "language_info": {
   "codemirror_mode": {
    "name": "ipython",
    "version": 3
   },
   "file_extension": ".py",
   "mimetype": "text/x-python",
   "name": "python",
   "nbconvert_exporter": "python",
   "pygments_lexer": "ipython3",
   "version": "3.12.8"
  }
 },
 "nbformat": 4,
 "nbformat_minor": 0
}
