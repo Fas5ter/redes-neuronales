{
 "cells": [
  {
   "cell_type": "code",
   "execution_count": 1,
   "metadata": {},
   "outputs": [
    {
     "name": "stderr",
     "output_type": "stream",
     "text": [
      "C:\\Users\\Cristian\\AppData\\Local\\Temp\\ipykernel_32744\\1826064283.py:13: FutureWarning: Downcasting behavior in `replace` is deprecated and will be removed in a future version. To retain the old behavior, explicitly call `result.infer_objects(copy=False)`. To opt-in to the future behavior, set `pd.set_option('future.no_silent_downcasting', True)`\n",
      "  df[\"Species\"] = df[\"Species\"].replace({\"Iris-setosa\": 0, \"Iris-versicolor\": 1, \"Iris-virginica\": 2})\n"
     ]
    }
   ],
   "source": [
    "# Importación de librerías.\n",
    "import numpy as np\n",
    "import pandas as pd\n",
    "\n",
    "# Cargar el dataset.\n",
    "df = pd.read_csv(\"C:/Users/Cristian/Programacion/Python/Redes_Neuronales/Iris.csv\")\n",
    "# df = pd.read_csv(\"C:/Programacion/Python/Redes_Neuronales/Iris.csv\")\n",
    "\n",
    "df = df.drop(['Id'], axis=1)\n",
    "\n",
    "# Discretización de los datos[Clases]. (0, 1)\n",
    "# Cambiar las etiquetas de las especies a números.\n",
    "df[\"Species\"] = df[\"Species\"].replace({\"Iris-setosa\": 0, \"Iris-versicolor\": 1, \"Iris-virginica\": 2})\n",
    "\n",
    "# Eliminar la especie Iris-virginica\n",
    "df = df.drop(df[df[\"Species\"] == 2].index)"
   ]
  },
  {
   "cell_type": "code",
   "execution_count": 2,
   "metadata": {},
   "outputs": [
    {
     "data": {
      "text/plain": [
       "Species\n",
       "0    50\n",
       "1    50\n",
       "Name: count, dtype: int64"
      ]
     },
     "execution_count": 2,
     "metadata": {},
     "output_type": "execute_result"
    }
   ],
   "source": [
    "df[\"Species\"].value_counts()"
   ]
  },
  {
   "cell_type": "code",
   "execution_count": 3,
   "metadata": {},
   "outputs": [],
   "source": [
    "### FUNCIONES DE ACTIVACIÓN\n",
    "# FUNCIONES DE ACTIVACIÓN\n",
    "#   - Sigmoide\n",
    "def sigmoide(x):\n",
    "    return 1/(1 + np.exp(-x))\n",
    "\n",
    "# - ReLU\n",
    "def  relu(x):\n",
    "    return np.maximum(0, x)\n",
    "\n",
    "# - Tangente Hiperbólica (tanh)\n",
    "def tanh(x):\n",
    "    return np.tanh(x)\n",
    "\n",
    "# - Escalon\n",
    "def escalon(x):\n",
    "    return np.where(x>=0, 1, 0)\n",
    "\n",
    "# Función para calcular la sumatoria.\n",
    "def sumaMuchos (*args):\n",
    "    suma = 0\n",
    "    for arg in args:\n",
    "        suma += arg\n",
    "    return suma\n",
    "# Funcion de Error.\n",
    "def error(y, y_pred):\n",
    "    return y - y_pred"
   ]
  },
  {
   "cell_type": "code",
   "execution_count": 63,
   "metadata": {},
   "outputs": [],
   "source": [
    "import numpy as np\n",
    "\n",
    "def actualizar_pesos(pesos, tasa_aprendizaje, error, entrada):\n",
    "    return [w + tasa_aprendizaje * error * x for w, x in zip(pesos, entrada)]\n",
    "\n",
    "def entrenamiento(entradas, pesos, tasa_aprendizaje, epocas, umbral=0.0001):\n",
    "    aprox = 0\n",
    "    for epoch in range(epocas):\n",
    "        # print(f\"Época: {epoch+1}\")\n",
    "        aprox = 0\n",
    "        for i in range(len(entradas)):\n",
    "            sumatoria = np.dot(entradas.values[i][:4], pesos)\n",
    "            y_pred = escalon(sumatoria)\n",
    "            err = error(entradas.values[i][4], y_pred)\n",
    "            \n",
    "            if all(abs(pesos[j] + tasa_aprendizaje * err * entradas.values[i][j] - pesos[j]) <= umbral for j in range(len(pesos))):\n",
    "                aprox += 1\n",
    "            \n",
    "            pesos = actualizar_pesos(pesos, tasa_aprendizaje, err, entradas.values[i][:4])\n",
    "            \n",
    "            if aprox == len(entradas):\n",
    "                break\n",
    "        if aprox == len(entradas):\n",
    "            break\n",
    "    print(f\"Epocas: {epoch+1}\")\n",
    "    print(f\"Pesos finales: {pesos}\")\n",
    "    return pesos"
   ]
  },
  {
   "cell_type": "code",
   "execution_count": 5,
   "metadata": {},
   "outputs": [],
   "source": [
    "# Datos de entrenamiento y prueba con libreria sklearn.\n",
    "from sklearn.model_selection import train_test_split\n",
    "\n",
    "X = df.copy()\n",
    "# X = X.drop('Species', axis=1)\n",
    "y = df.copy()\n",
    "y = y['Species'] \n",
    "\n",
    "x_train, x_test, y_train, y_test = train_test_split(X, y, test_size=0.2, random_state=42)"
   ]
  },
  {
   "cell_type": "code",
   "execution_count": 11,
   "metadata": {},
   "outputs": [
    {
     "name": "stdout",
     "output_type": "stream",
     "text": [
      "[[0.5488135 ]\n",
      " [0.71518937]\n",
      " [0.60276338]\n",
      " [0.54488318]]\n"
     ]
    }
   ],
   "source": [
    "# 4 pesos aleatorios para 4 características.\n",
    "np.random.seed(0)\n",
    "weights = np.random.rand(4, 1)\n",
    "print(weights)"
   ]
  },
  {
   "cell_type": "code",
   "execution_count": 67,
   "metadata": {},
   "outputs": [
    {
     "name": "stdout",
     "output_type": "stream",
     "text": [
      "Epocas: 1\n",
      "Pesos finales: [array([-0.2811865]), array([-0.10481063]), array([0.77276338]), array([0.62488318])]\n"
     ]
    }
   ],
   "source": [
    "pesosFinales = entrenamiento(x_train, weights, 0.1, 1000)"
   ]
  },
  {
   "cell_type": "code",
   "execution_count": 59,
   "metadata": {},
   "outputs": [],
   "source": [
    "# Cargar el dataset.\n",
    "# df2 = pd.read_csv(\"C:/Programacion/Python/Redes_Neuronales/bill_authentication.csv\")\n",
    "df2 = pd.read_csv(\"C:/Users/Cristian/Programacion/Python/Redes_Neuronales/bill_authentication.csv\")"
   ]
  },
  {
   "cell_type": "code",
   "execution_count": 60,
   "metadata": {},
   "outputs": [],
   "source": [
    "np.random.seed(5)\n",
    "weights2 = np.random.rand(4, 1)"
   ]
  },
  {
   "cell_type": "code",
   "execution_count": 61,
   "metadata": {},
   "outputs": [],
   "source": [
    "from sklearn.model_selection import train_test_split\n",
    "\n",
    "X2 = df2.copy()\n",
    "y2 = df2.copy()\n",
    "y2 = y2['Class'] \n",
    "\n",
    "x_train2, x_test2, y_train2, y_test2 = train_test_split(X2, y2 ,test_size=0.2, random_state=42)"
   ]
  },
  {
   "cell_type": "code",
   "execution_count": 74,
   "metadata": {},
   "outputs": [
    {
     "name": "stdout",
     "output_type": "stream",
     "text": [
      "Epocas: 1000\n",
      "Pesos finales: [array([-11.78872283]), array([-9.15831989]), array([-7.12473664]), array([-4.39340545])]\n"
     ]
    }
   ],
   "source": [
    "pesos2 = entrenamiento(x_train2, weights2, 0.3, 1000, 0.5)"
   ]
  }
 ],
 "metadata": {
  "kernelspec": {
   "display_name": "Python 3",
   "language": "python",
   "name": "python3"
  },
  "language_info": {
   "codemirror_mode": {
    "name": "ipython",
    "version": 3
   },
   "file_extension": ".py",
   "mimetype": "text/x-python",
   "name": "python",
   "nbconvert_exporter": "python",
   "pygments_lexer": "ipython3",
   "version": "3.12.5"
  }
 },
 "nbformat": 4,
 "nbformat_minor": 2
}
