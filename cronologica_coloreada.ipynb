{
 "cells": [
  {
   "cell_type": "markdown",
   "metadata": {},
   "source": [
    "# Universidad de Colima\n",
    "# Facultad de Ingeniería Mecánica y Eléctrica\n",
    "# Ingeniería en Computación Inteligente\n",
    "# Asignatura: Logística\n",
    "# Red de Petri coloreada con prioridad cronológico\n",
    "# Grado y Grupo: 7°D\n",
    "# Cristian Armando Larios Bravo\n",
    "# Nydia Naomi Olmos Romero"
   ]
  },
  {
   "cell_type": "markdown",
   "metadata": {},
   "source": [
    "# CRONOLÓGICO"
   ]
  },
  {
   "cell_type": "markdown",
   "metadata": {},
   "source": [
    "## Variables"
   ]
  },
  {
   "cell_type": "code",
   "execution_count": null,
   "metadata": {},
   "outputs": [],
   "source": [
    "p0 = [1,2,3]\n",
    "p1 = []\n",
    "rc = [1]\n",
    "cola = [3,1,2]\n",
    "t1 = False\n",
    "t2 = False\n",
    "mi = 0"
   ]
  },
  {
   "cell_type": "markdown",
   "metadata": {},
   "source": [
    "## Entrada"
   ]
  },
  {
   "cell_type": "code",
   "execution_count": null,
   "metadata": {},
   "outputs": [],
   "source": [
    "def entrada():\n",
    "    global cola\n",
    "    global p0\n",
    "    global p1\n",
    "    global rc\n",
    "    global t1\n",
    "    global t2\n",
    "\n",
    "    if len(p0) != 0 and len(cola) != 0 and len(rc) != 0:\n",
    "        t1 = True\n",
    "    else:\n",
    "        t1 = False\n",
    "    if len(p1) != 0:\n",
    "        t2 = True\n",
    "    else:\n",
    "        t2 = False"
   ]
  },
  {
   "cell_type": "markdown",
   "metadata": {},
   "source": [
    "## Funciones"
   ]
  },
  {
   "cell_type": "markdown",
   "metadata": {},
   "source": [
    "### f1"
   ]
  },
  {
   "cell_type": "code",
   "execution_count": null,
   "metadata": {},
   "outputs": [],
   "source": [
    "def f1():\n",
    "    global rc\n",
    "    global cola\n",
    "    global p0\n",
    "    global p1\n",
    "    global mi\n",
    "\n",
    "    # mi se eligirá en base a la cola\n",
    "    indice = p0.index(cola[0])\n",
    "    mi = p0[indice]\n",
    "    # print(\"Hola \")\n",
    "    print(\"mi: \", mi)\n",
    "    p1.append(mi)\n",
    "    p0.remove(mi)\n",
    "    rc.pop()\n",
    "    cola.remove(mi)\n",
    "    # cola.pop(0)\n",
    "    print(f\"Se atiende la petición m{mi}\")"
   ]
  },
  {
   "cell_type": "markdown",
   "metadata": {},
   "source": [
    "### f2"
   ]
  },
  {
   "cell_type": "code",
   "execution_count": null,
   "metadata": {},
   "outputs": [],
   "source": [
    "def f2():\n",
    "    global rc\n",
    "    global p0\n",
    "    global p1\n",
    "    global mi\n",
    "\n",
    "    rc.append(1)\n",
    "    # p0.append(p1[0])\n",
    "    p1.pop()\n",
    "\n",
    "    print(f\"Fin del movimiento de m{mi}\")"
   ]
  },
  {
   "cell_type": "markdown",
   "metadata": {},
   "source": [
    "## Dinámica"
   ]
  },
  {
   "cell_type": "code",
   "execution_count": null,
   "metadata": {},
   "outputs": [],
   "source": [
    "import time\n",
    "def dinamica ():\n",
    "    global t1\n",
    "    global t2\n",
    "    entrada()\n",
    "    if t1 == True:\n",
    "        f1()\n",
    "        entrada()\n",
    "    if t2 == True:\n",
    "        f2()\n",
    "    time.sleep(2)\n",
    "\n",
    "## Implementación\n",
    "\n",
    "sumaP = len(cola)\n",
    "for i in range(sumaP):\n",
    "    dinamica()\n",
    "\n",
    "print(p0)"
   ]
  },
  {
   "cell_type": "code",
   "execution_count": null,
   "metadata": {},
   "outputs": [],
   "source": [
    "del p0\n",
    "del p1\n",
    "del rc\n",
    "del cola\n",
    "del t1\n",
    "del t2\n",
    "del mi\n",
    "del sumaP"
   ]
  }
 ],
 "metadata": {
  "language_info": {
   "name": "python"
  }
 },
 "nbformat": 4,
 "nbformat_minor": 2
}
