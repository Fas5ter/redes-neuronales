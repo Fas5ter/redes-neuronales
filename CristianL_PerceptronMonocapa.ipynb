{
 "cells": [
  {
   "cell_type": "markdown",
   "metadata": {},
   "source": [
    "# Implementación del Perceptron Monocapa\n",
    "# Autor: Cristian Armando Larios Bravo\n",
    "# Asignatura: Redes Neuronales"
   ]
  },
  {
   "cell_type": "markdown",
   "metadata": {},
   "source": [
    "## Indice"
   ]
  },
  {
   "cell_type": "markdown",
   "metadata": {},
   "source": [
    "1. [Introducción.](#id1)\n",
    "2. [Desarrollo.](#id2)"
   ]
  },
  {
   "cell_type": "markdown",
   "metadata": {},
   "source": [
    "<div id='id1'>\n",
    "<h2>Introducción</h2>\n",
    "</div>"
   ]
  },
  {
   "cell_type": "markdown",
   "metadata": {},
   "source": [
    "### El perceptrón monocapa es una red neuronal que aprende a clasificar datos con sólo una capa de neuronas. Conoce su definición, entrenamiento y limitaciones en esta presentación."
   ]
  },
  {
   "cell_type": "markdown",
   "metadata": {},
   "source": [
    "<div style=\"text-align: center\">\n",
    "    <img src=\"Perceptron_monocapa1.jpg\">\n",
    "</div>"
   ]
  },
  {
   "cell_type": "markdown",
   "metadata": {},
   "source": [
    "<div id='id2'>\n",
    "    <h2>Desarrollo</h2>\n",
    "</div>"
   ]
  },
  {
   "cell_type": "code",
   "execution_count": 2,
   "metadata": {},
   "outputs": [],
   "source": [
    "# Importación de librerías.\n",
    "import numpy as np\n",
    "import pandas as pd"
   ]
  },
  {
   "cell_type": "markdown",
   "metadata": {},
   "source": [
    "### Iris.csv"
   ]
  },
  {
   "cell_type": "code",
   "execution_count": 3,
   "metadata": {},
   "outputs": [],
   "source": [
    "# Cargar el dataset.\n",
    "df = pd.read_csv(\"C:/Users/Cristian/Programacion/Python/Redes_Neuronales/Iris.csv\")\n",
    "# df = pd.read_csv(\"C:/Programacion/Python/Redes_Neuronales/Iris.csv\")"
   ]
  },
  {
   "cell_type": "code",
   "execution_count": 4,
   "metadata": {},
   "outputs": [],
   "source": [
    "df = df.drop(['Id'], axis=1)"
   ]
  },
  {
   "cell_type": "code",
   "execution_count": 5,
   "metadata": {},
   "outputs": [
    {
     "data": {
      "text/html": [
       "<div>\n",
       "<style scoped>\n",
       "    .dataframe tbody tr th:only-of-type {\n",
       "        vertical-align: middle;\n",
       "    }\n",
       "\n",
       "    .dataframe tbody tr th {\n",
       "        vertical-align: top;\n",
       "    }\n",
       "\n",
       "    .dataframe thead th {\n",
       "        text-align: right;\n",
       "    }\n",
       "</style>\n",
       "<table border=\"1\" class=\"dataframe\">\n",
       "  <thead>\n",
       "    <tr style=\"text-align: right;\">\n",
       "      <th></th>\n",
       "      <th>SepalLengthCm</th>\n",
       "      <th>SepalWidthCm</th>\n",
       "      <th>PetalLengthCm</th>\n",
       "      <th>PetalWidthCm</th>\n",
       "      <th>Species</th>\n",
       "    </tr>\n",
       "  </thead>\n",
       "  <tbody>\n",
       "    <tr>\n",
       "      <th>0</th>\n",
       "      <td>5.1</td>\n",
       "      <td>3.5</td>\n",
       "      <td>1.4</td>\n",
       "      <td>0.2</td>\n",
       "      <td>Iris-setosa</td>\n",
       "    </tr>\n",
       "    <tr>\n",
       "      <th>1</th>\n",
       "      <td>4.9</td>\n",
       "      <td>3.0</td>\n",
       "      <td>1.4</td>\n",
       "      <td>0.2</td>\n",
       "      <td>Iris-setosa</td>\n",
       "    </tr>\n",
       "    <tr>\n",
       "      <th>2</th>\n",
       "      <td>4.7</td>\n",
       "      <td>3.2</td>\n",
       "      <td>1.3</td>\n",
       "      <td>0.2</td>\n",
       "      <td>Iris-setosa</td>\n",
       "    </tr>\n",
       "    <tr>\n",
       "      <th>3</th>\n",
       "      <td>4.6</td>\n",
       "      <td>3.1</td>\n",
       "      <td>1.5</td>\n",
       "      <td>0.2</td>\n",
       "      <td>Iris-setosa</td>\n",
       "    </tr>\n",
       "    <tr>\n",
       "      <th>4</th>\n",
       "      <td>5.0</td>\n",
       "      <td>3.6</td>\n",
       "      <td>1.4</td>\n",
       "      <td>0.2</td>\n",
       "      <td>Iris-setosa</td>\n",
       "    </tr>\n",
       "    <tr>\n",
       "      <th>...</th>\n",
       "      <td>...</td>\n",
       "      <td>...</td>\n",
       "      <td>...</td>\n",
       "      <td>...</td>\n",
       "      <td>...</td>\n",
       "    </tr>\n",
       "    <tr>\n",
       "      <th>145</th>\n",
       "      <td>6.7</td>\n",
       "      <td>3.0</td>\n",
       "      <td>5.2</td>\n",
       "      <td>2.3</td>\n",
       "      <td>Iris-virginica</td>\n",
       "    </tr>\n",
       "    <tr>\n",
       "      <th>146</th>\n",
       "      <td>6.3</td>\n",
       "      <td>2.5</td>\n",
       "      <td>5.0</td>\n",
       "      <td>1.9</td>\n",
       "      <td>Iris-virginica</td>\n",
       "    </tr>\n",
       "    <tr>\n",
       "      <th>147</th>\n",
       "      <td>6.5</td>\n",
       "      <td>3.0</td>\n",
       "      <td>5.2</td>\n",
       "      <td>2.0</td>\n",
       "      <td>Iris-virginica</td>\n",
       "    </tr>\n",
       "    <tr>\n",
       "      <th>148</th>\n",
       "      <td>6.2</td>\n",
       "      <td>3.4</td>\n",
       "      <td>5.4</td>\n",
       "      <td>2.3</td>\n",
       "      <td>Iris-virginica</td>\n",
       "    </tr>\n",
       "    <tr>\n",
       "      <th>149</th>\n",
       "      <td>5.9</td>\n",
       "      <td>3.0</td>\n",
       "      <td>5.1</td>\n",
       "      <td>1.8</td>\n",
       "      <td>Iris-virginica</td>\n",
       "    </tr>\n",
       "  </tbody>\n",
       "</table>\n",
       "<p>150 rows × 5 columns</p>\n",
       "</div>"
      ],
      "text/plain": [
       "     SepalLengthCm  SepalWidthCm  PetalLengthCm  PetalWidthCm         Species\n",
       "0              5.1           3.5            1.4           0.2     Iris-setosa\n",
       "1              4.9           3.0            1.4           0.2     Iris-setosa\n",
       "2              4.7           3.2            1.3           0.2     Iris-setosa\n",
       "3              4.6           3.1            1.5           0.2     Iris-setosa\n",
       "4              5.0           3.6            1.4           0.2     Iris-setosa\n",
       "..             ...           ...            ...           ...             ...\n",
       "145            6.7           3.0            5.2           2.3  Iris-virginica\n",
       "146            6.3           2.5            5.0           1.9  Iris-virginica\n",
       "147            6.5           3.0            5.2           2.0  Iris-virginica\n",
       "148            6.2           3.4            5.4           2.3  Iris-virginica\n",
       "149            5.9           3.0            5.1           1.8  Iris-virginica\n",
       "\n",
       "[150 rows x 5 columns]"
      ]
     },
     "execution_count": 5,
     "metadata": {},
     "output_type": "execute_result"
    }
   ],
   "source": [
    "df"
   ]
  },
  {
   "cell_type": "code",
   "execution_count": 6,
   "metadata": {},
   "outputs": [
    {
     "data": {
      "text/plain": [
       "array([5.1, 3.7, 1.5, 0.4, 'Iris-setosa'], dtype=object)"
      ]
     },
     "execution_count": 6,
     "metadata": {},
     "output_type": "execute_result"
    }
   ],
   "source": [
    "df.values[21]"
   ]
  },
  {
   "cell_type": "markdown",
   "metadata": {},
   "source": [
    "#### Observaciones\n",
    "* Perceptron solo sirve con 0 y 1, por lo que las etiquetas hay que cambiarlas de valor, aplicandoles una discretización."
   ]
  },
  {
   "cell_type": "markdown",
   "metadata": {},
   "source": [
    "#### Discretización"
   ]
  },
  {
   "cell_type": "code",
   "execution_count": 7,
   "metadata": {},
   "outputs": [
    {
     "name": "stderr",
     "output_type": "stream",
     "text": [
      "C:\\Users\\Cristian\\AppData\\Local\\Temp\\ipykernel_21404\\1011804194.py:5: FutureWarning: Downcasting behavior in `replace` is deprecated and will be removed in a future version. To retain the old behavior, explicitly call `result.infer_objects(copy=False)`. To opt-in to the future behavior, set `pd.set_option('future.no_silent_downcasting', True)`\n",
      "  df[\"Species\"] = df[\"Species\"].replace({\"Iris-setosa\": 0, \"Iris-versicolor\": 1, \"Iris-virginica\": 2})\n"
     ]
    }
   ],
   "source": [
    "# Discretización de los datos[Clases]. (0, 1)\n",
    "# Cambiar las etiquetas de las especies a números.\n",
    "df[\"Species\"].unique()\n",
    "df[\"Species\"].value_counts()\n",
    "df[\"Species\"] = df[\"Species\"].replace({\"Iris-setosa\": 0, \"Iris-versicolor\": 1, \"Iris-virginica\": 2})\n",
    "df[\"Species\"].unique()\n",
    "df[\"Species\"].value_counts()\n",
    "\n",
    "# Eliminar la especie Iris-virginica\n",
    "df = df.drop(df[df[\"Species\"] == 2].index)"
   ]
  },
  {
   "cell_type": "code",
   "execution_count": 8,
   "metadata": {},
   "outputs": [
    {
     "data": {
      "text/plain": [
       "Species\n",
       "0    50\n",
       "1    50\n",
       "Name: count, dtype: int64"
      ]
     },
     "execution_count": 8,
     "metadata": {},
     "output_type": "execute_result"
    }
   ],
   "source": [
    "df[\"Species\"].value_counts()"
   ]
  },
  {
   "cell_type": "code",
   "execution_count": 9,
   "metadata": {},
   "outputs": [
    {
     "data": {
      "text/html": [
       "<div>\n",
       "<style scoped>\n",
       "    .dataframe tbody tr th:only-of-type {\n",
       "        vertical-align: middle;\n",
       "    }\n",
       "\n",
       "    .dataframe tbody tr th {\n",
       "        vertical-align: top;\n",
       "    }\n",
       "\n",
       "    .dataframe thead th {\n",
       "        text-align: right;\n",
       "    }\n",
       "</style>\n",
       "<table border=\"1\" class=\"dataframe\">\n",
       "  <thead>\n",
       "    <tr style=\"text-align: right;\">\n",
       "      <th></th>\n",
       "      <th>SepalLengthCm</th>\n",
       "      <th>SepalWidthCm</th>\n",
       "      <th>PetalLengthCm</th>\n",
       "      <th>PetalWidthCm</th>\n",
       "      <th>Species</th>\n",
       "    </tr>\n",
       "  </thead>\n",
       "  <tbody>\n",
       "    <tr>\n",
       "      <th>0</th>\n",
       "      <td>5.1</td>\n",
       "      <td>3.5</td>\n",
       "      <td>1.4</td>\n",
       "      <td>0.2</td>\n",
       "      <td>0</td>\n",
       "    </tr>\n",
       "    <tr>\n",
       "      <th>1</th>\n",
       "      <td>4.9</td>\n",
       "      <td>3.0</td>\n",
       "      <td>1.4</td>\n",
       "      <td>0.2</td>\n",
       "      <td>0</td>\n",
       "    </tr>\n",
       "    <tr>\n",
       "      <th>2</th>\n",
       "      <td>4.7</td>\n",
       "      <td>3.2</td>\n",
       "      <td>1.3</td>\n",
       "      <td>0.2</td>\n",
       "      <td>0</td>\n",
       "    </tr>\n",
       "    <tr>\n",
       "      <th>3</th>\n",
       "      <td>4.6</td>\n",
       "      <td>3.1</td>\n",
       "      <td>1.5</td>\n",
       "      <td>0.2</td>\n",
       "      <td>0</td>\n",
       "    </tr>\n",
       "    <tr>\n",
       "      <th>4</th>\n",
       "      <td>5.0</td>\n",
       "      <td>3.6</td>\n",
       "      <td>1.4</td>\n",
       "      <td>0.2</td>\n",
       "      <td>0</td>\n",
       "    </tr>\n",
       "    <tr>\n",
       "      <th>...</th>\n",
       "      <td>...</td>\n",
       "      <td>...</td>\n",
       "      <td>...</td>\n",
       "      <td>...</td>\n",
       "      <td>...</td>\n",
       "    </tr>\n",
       "    <tr>\n",
       "      <th>95</th>\n",
       "      <td>5.7</td>\n",
       "      <td>3.0</td>\n",
       "      <td>4.2</td>\n",
       "      <td>1.2</td>\n",
       "      <td>1</td>\n",
       "    </tr>\n",
       "    <tr>\n",
       "      <th>96</th>\n",
       "      <td>5.7</td>\n",
       "      <td>2.9</td>\n",
       "      <td>4.2</td>\n",
       "      <td>1.3</td>\n",
       "      <td>1</td>\n",
       "    </tr>\n",
       "    <tr>\n",
       "      <th>97</th>\n",
       "      <td>6.2</td>\n",
       "      <td>2.9</td>\n",
       "      <td>4.3</td>\n",
       "      <td>1.3</td>\n",
       "      <td>1</td>\n",
       "    </tr>\n",
       "    <tr>\n",
       "      <th>98</th>\n",
       "      <td>5.1</td>\n",
       "      <td>2.5</td>\n",
       "      <td>3.0</td>\n",
       "      <td>1.1</td>\n",
       "      <td>1</td>\n",
       "    </tr>\n",
       "    <tr>\n",
       "      <th>99</th>\n",
       "      <td>5.7</td>\n",
       "      <td>2.8</td>\n",
       "      <td>4.1</td>\n",
       "      <td>1.3</td>\n",
       "      <td>1</td>\n",
       "    </tr>\n",
       "  </tbody>\n",
       "</table>\n",
       "<p>100 rows × 5 columns</p>\n",
       "</div>"
      ],
      "text/plain": [
       "    SepalLengthCm  SepalWidthCm  PetalLengthCm  PetalWidthCm  Species\n",
       "0             5.1           3.5            1.4           0.2        0\n",
       "1             4.9           3.0            1.4           0.2        0\n",
       "2             4.7           3.2            1.3           0.2        0\n",
       "3             4.6           3.1            1.5           0.2        0\n",
       "4             5.0           3.6            1.4           0.2        0\n",
       "..            ...           ...            ...           ...      ...\n",
       "95            5.7           3.0            4.2           1.2        1\n",
       "96            5.7           2.9            4.2           1.3        1\n",
       "97            6.2           2.9            4.3           1.3        1\n",
       "98            5.1           2.5            3.0           1.1        1\n",
       "99            5.7           2.8            4.1           1.3        1\n",
       "\n",
       "[100 rows x 5 columns]"
      ]
     },
     "execution_count": 9,
     "metadata": {},
     "output_type": "execute_result"
    }
   ],
   "source": [
    "df"
   ]
  },
  {
   "cell_type": "code",
   "execution_count": 10,
   "metadata": {},
   "outputs": [
    {
     "data": {
      "text/html": [
       "<div>\n",
       "<style scoped>\n",
       "    .dataframe tbody tr th:only-of-type {\n",
       "        vertical-align: middle;\n",
       "    }\n",
       "\n",
       "    .dataframe tbody tr th {\n",
       "        vertical-align: top;\n",
       "    }\n",
       "\n",
       "    .dataframe thead th {\n",
       "        text-align: right;\n",
       "    }\n",
       "</style>\n",
       "<table border=\"1\" class=\"dataframe\">\n",
       "  <thead>\n",
       "    <tr style=\"text-align: right;\">\n",
       "      <th></th>\n",
       "      <th>SepalLengthCm</th>\n",
       "      <th>SepalWidthCm</th>\n",
       "      <th>PetalLengthCm</th>\n",
       "      <th>PetalWidthCm</th>\n",
       "      <th>Species</th>\n",
       "    </tr>\n",
       "  </thead>\n",
       "  <tbody>\n",
       "    <tr>\n",
       "      <th>60</th>\n",
       "      <td>5.0</td>\n",
       "      <td>2.0</td>\n",
       "      <td>3.5</td>\n",
       "      <td>1.0</td>\n",
       "      <td>1</td>\n",
       "    </tr>\n",
       "    <tr>\n",
       "      <th>61</th>\n",
       "      <td>5.9</td>\n",
       "      <td>3.0</td>\n",
       "      <td>4.2</td>\n",
       "      <td>1.5</td>\n",
       "      <td>1</td>\n",
       "    </tr>\n",
       "    <tr>\n",
       "      <th>62</th>\n",
       "      <td>6.0</td>\n",
       "      <td>2.2</td>\n",
       "      <td>4.0</td>\n",
       "      <td>1.0</td>\n",
       "      <td>1</td>\n",
       "    </tr>\n",
       "    <tr>\n",
       "      <th>63</th>\n",
       "      <td>6.1</td>\n",
       "      <td>2.9</td>\n",
       "      <td>4.7</td>\n",
       "      <td>1.4</td>\n",
       "      <td>1</td>\n",
       "    </tr>\n",
       "    <tr>\n",
       "      <th>64</th>\n",
       "      <td>5.6</td>\n",
       "      <td>2.9</td>\n",
       "      <td>3.6</td>\n",
       "      <td>1.3</td>\n",
       "      <td>1</td>\n",
       "    </tr>\n",
       "  </tbody>\n",
       "</table>\n",
       "</div>"
      ],
      "text/plain": [
       "    SepalLengthCm  SepalWidthCm  PetalLengthCm  PetalWidthCm  Species\n",
       "60            5.0           2.0            3.5           1.0        1\n",
       "61            5.9           3.0            4.2           1.5        1\n",
       "62            6.0           2.2            4.0           1.0        1\n",
       "63            6.1           2.9            4.7           1.4        1\n",
       "64            5.6           2.9            3.6           1.3        1"
      ]
     },
     "execution_count": 10,
     "metadata": {},
     "output_type": "execute_result"
    }
   ],
   "source": [
    "df[60:65]"
   ]
  },
  {
   "cell_type": "code",
   "execution_count": 11,
   "metadata": {},
   "outputs": [
    {
     "data": {
      "text/html": [
       "<div>\n",
       "<style scoped>\n",
       "    .dataframe tbody tr th:only-of-type {\n",
       "        vertical-align: middle;\n",
       "    }\n",
       "\n",
       "    .dataframe tbody tr th {\n",
       "        vertical-align: top;\n",
       "    }\n",
       "\n",
       "    .dataframe thead th {\n",
       "        text-align: right;\n",
       "    }\n",
       "</style>\n",
       "<table border=\"1\" class=\"dataframe\">\n",
       "  <thead>\n",
       "    <tr style=\"text-align: right;\">\n",
       "      <th></th>\n",
       "      <th>SepalLengthCm</th>\n",
       "      <th>SepalWidthCm</th>\n",
       "      <th>PetalLengthCm</th>\n",
       "      <th>PetalWidthCm</th>\n",
       "      <th>Species</th>\n",
       "    </tr>\n",
       "  </thead>\n",
       "  <tbody>\n",
       "    <tr>\n",
       "      <th>95</th>\n",
       "      <td>5.7</td>\n",
       "      <td>3.0</td>\n",
       "      <td>4.2</td>\n",
       "      <td>1.2</td>\n",
       "      <td>1</td>\n",
       "    </tr>\n",
       "    <tr>\n",
       "      <th>96</th>\n",
       "      <td>5.7</td>\n",
       "      <td>2.9</td>\n",
       "      <td>4.2</td>\n",
       "      <td>1.3</td>\n",
       "      <td>1</td>\n",
       "    </tr>\n",
       "    <tr>\n",
       "      <th>97</th>\n",
       "      <td>6.2</td>\n",
       "      <td>2.9</td>\n",
       "      <td>4.3</td>\n",
       "      <td>1.3</td>\n",
       "      <td>1</td>\n",
       "    </tr>\n",
       "    <tr>\n",
       "      <th>98</th>\n",
       "      <td>5.1</td>\n",
       "      <td>2.5</td>\n",
       "      <td>3.0</td>\n",
       "      <td>1.1</td>\n",
       "      <td>1</td>\n",
       "    </tr>\n",
       "    <tr>\n",
       "      <th>99</th>\n",
       "      <td>5.7</td>\n",
       "      <td>2.8</td>\n",
       "      <td>4.1</td>\n",
       "      <td>1.3</td>\n",
       "      <td>1</td>\n",
       "    </tr>\n",
       "  </tbody>\n",
       "</table>\n",
       "</div>"
      ],
      "text/plain": [
       "    SepalLengthCm  SepalWidthCm  PetalLengthCm  PetalWidthCm  Species\n",
       "95            5.7           3.0            4.2           1.2        1\n",
       "96            5.7           2.9            4.2           1.3        1\n",
       "97            6.2           2.9            4.3           1.3        1\n",
       "98            5.1           2.5            3.0           1.1        1\n",
       "99            5.7           2.8            4.1           1.3        1"
      ]
     },
     "execution_count": 11,
     "metadata": {},
     "output_type": "execute_result"
    }
   ],
   "source": [
    "df.tail()"
   ]
  },
  {
   "cell_type": "code",
   "execution_count": 12,
   "metadata": {},
   "outputs": [],
   "source": [
    "### FUNCIONES DE ACTIVACIÓN\n",
    "# FUNCIONES DE ACTIVACIÓN\n",
    "#   - Sigmoide\n",
    "def sigmoide(x):\n",
    "    return 1/(1 + np.exp(-x))\n",
    "\n",
    "# - ReLU\n",
    "def  relu(x):\n",
    "    return np.maximum(0, x)\n",
    "\n",
    "# - Tangente Hiperbólica (tanh)\n",
    "def tanh(x):\n",
    "    return np.tanh(x)\n",
    "\n",
    "# - Escalon\n",
    "def escalon(x):\n",
    "    return np.where(x>=0, 1, 0)\n",
    "\n",
    "# Función para calcular la sumatoria.\n",
    "def sumaMuchos (*args):\n",
    "    suma = 0\n",
    "    for arg in args:\n",
    "        suma += arg\n",
    "    return suma\n",
    "# Funcion de Error.\n",
    "def error(y, y_pred):\n",
    "    return y - y_pred"
   ]
  },
  {
   "cell_type": "markdown",
   "metadata": {},
   "source": [
    "#### Entrenamiento"
   ]
  },
  {
   "cell_type": "code",
   "execution_count": 15,
   "metadata": {},
   "outputs": [
    {
     "name": "stdout",
     "output_type": "stream",
     "text": [
      "[[0.5488135 ]\n",
      " [0.71518937]\n",
      " [0.60276338]\n",
      " [0.54488318]]\n"
     ]
    }
   ],
   "source": [
    "# 4 pesos aleatorios para 4 características.\n",
    "np.random.seed(0)\n",
    "weights = np.random.rand(4, 1)\n",
    "# weights = [1,2,3,4]\n",
    "# weights = [0.1, 0.15, 0.2, 0.25]\n",
    "print(weights)"
   ]
  },
  {
   "cell_type": "code",
   "execution_count": 60,
   "metadata": {},
   "outputs": [],
   "source": [
    "# Función de activación.\n",
    "def activacion(valor):\n",
    "    return 1 if valor >= 0 else 0"
   ]
  },
  {
   "cell_type": "code",
   "execution_count": 59,
   "metadata": {},
   "outputs": [],
   "source": [
    "# Funcion de Error.\n",
    "def error(y_real, y_pred):\n",
    "    # Cálculo del error simple\n",
    "    return y_real - y_pred"
   ]
  },
  {
   "cell_type": "code",
   "execution_count": 61,
   "metadata": {},
   "outputs": [],
   "source": [
    "def sumaMuchos (*args):\n",
    "    suma = 0\n",
    "    for arg in args:\n",
    "        suma += arg\n",
    "    return suma"
   ]
  },
  {
   "cell_type": "code",
   "execution_count": 97,
   "metadata": {},
   "outputs": [],
   "source": [
    "# Función de Entrenamiento del perceptron.\n",
    "def entrenamiento(entradas, pesos, taza_aprendizaje, epocas):\n",
    "    aprox = 0\n",
    "    epoca = 0\n",
    "    for epoch in range(epocas):\n",
    "        # print(f\"Epoca: {epoch+1}\")\n",
    "        # print(f\"Pesos actuales: {pesos}\")\n",
    "        ErrorAcum = 0\n",
    "        if aprox == len(entradas):\n",
    "                break\n",
    "        aprox = 0\n",
    "        # epoca +=1\n",
    "        for i in range(len(entradas)):\n",
    "            # Sumatoria\n",
    "            # Sumatoria = np.dot(entradas.values[i], pesos)\n",
    "            Sumatoria = sumaMuchos((entradas.values[i][0]*pesos[0]),\n",
    "                                   (entradas.values[i][1]*pesos[1]),\n",
    "                                   (entradas.values[i][2]*pesos[2]),\n",
    "                                   (entradas.values[i][3]*pesos[3]))\n",
    "            \n",
    "            # Función de activación\n",
    "            y_pred = escalon(Sumatoria)\n",
    "            \n",
    "            # Función de error\n",
    "            err = error(entradas.values[i][4], y_pred)\n",
    "            auxError = taza_aprendizaje * err\n",
    "            \n",
    "            # w(k+1) = wk + (TasaAprendizaje * Error * Caracteristica)\n",
    "            \n",
    "            # Comparar si los pesos son iguales, para detener el entrenamiento\n",
    "            if (pesos[0] + (taza_aprendizaje * err * entradas.values[i][0])) - pesos[0] <= 0.5\\\n",
    "                and (pesos[1] + (taza_aprendizaje * err * entradas.values[i][1])) - pesos[1] <= 0.5\\\n",
    "                and (pesos[2] + (taza_aprendizaje * err * entradas.values[i][2])) - pesos[2] <= 0.5\\\n",
    "                and (pesos[3] + (taza_aprendizaje * err * entradas.values[i][3])) - pesos[3] <= 0.5:\n",
    "                aprox += 1\n",
    "            \n",
    "            # Error absoluto es 0\n",
    "\n",
    "            pesos[0] = pesos[0] + (taza_aprendizaje * err * entradas.values[i][0])\n",
    "            pesos[1] = pesos[1] + (taza_aprendizaje * err * entradas.values[i][1])\n",
    "            pesos[2] = pesos[2] + (taza_aprendizaje * err * entradas.values[i][2])\n",
    "            pesos[3] = pesos[3] + (taza_aprendizaje * err * entradas.values[i][3])\n",
    "            \n",
    "            # print(f\"Pesos actuales: {pesos}\")\n",
    "            # ErrorAcum += int(auxError !=0.0)**2\n",
    "            \n",
    "            if aprox == len(entradas):\n",
    "                break\n",
    "            \n",
    "        epoca += 1\n",
    "    print(f\"Epocas: {epoca+1}\")\n",
    "    print(f\"Pesos finales: {pesos}\")\n",
    "    return pesos"
   ]
  },
  {
   "cell_type": "code",
   "execution_count": 45,
   "metadata": {},
   "outputs": [],
   "source": [
    "# Datos de entrenamiento y prueba con libreria sklearn.\n",
    "from sklearn.model_selection import train_test_split\n",
    "\n",
    "X = df.copy()\n",
    "# X = X.drop('Species', axis=1)\n",
    "y = df.copy()\n",
    "y = y['Species'] \n",
    "\n",
    "x_train, x_test, y_train, y_test = train_test_split(X, y, test_size=0.2, random_state=42)"
   ]
  },
  {
   "cell_type": "code",
   "execution_count": 95,
   "metadata": {},
   "outputs": [
    {
     "name": "stdout",
     "output_type": "stream",
     "text": [
      "Epoca: 1\n",
      "Epoca: 2\n",
      "Epocas: 2\n",
      "Pesos finales: [[-0.7711865 ]\n",
      " [-1.41481063]\n",
      " [ 2.10276338]\n",
      " [ 1.29488318]]\n"
     ]
    }
   ],
   "source": [
    "pesos = entrenamiento(x_train, weights, 0.3, 1000)"
   ]
  },
  {
   "cell_type": "markdown",
   "metadata": {},
   "source": [
    "#### Prueba iris.csv"
   ]
  },
  {
   "cell_type": "code",
   "execution_count": 47,
   "metadata": {},
   "outputs": [
    {
     "name": "stdout",
     "output_type": "stream",
     "text": [
      "Sumatoria: [4.34879862] | Predicción: 1 | Error: 0.0\n",
      "Sumatoria: [2.59881146] | Predicción: 1 | Error: 0.0\n",
      "Sumatoria: [3.34665958] | Predicción: 1 | Error: 0.0\n",
      "Sumatoria: [-4.6137934] | Predicción: 0 | Error: 0.0\n",
      "Sumatoria: [-4.79612785] | Predicción: 0 | Error: 0.0\n",
      "Sumatoria: [-5.33028558] | Predicción: 0 | Error: 0.0\n",
      "Sumatoria: [-6.27903615] | Predicción: 0 | Error: 0.0\n",
      "Sumatoria: [1.77780108] | Predicción: 1 | Error: 0.0\n",
      "Sumatoria: [-5.98608472] | Predicción: 0 | Error: 0.0\n",
      "Sumatoria: [-5.68204298] | Predicción: 0 | Error: 0.0\n",
      "Sumatoria: [-5.80888074] | Predicción: 0 | Error: 0.0\n",
      "Sumatoria: [-4.46421011] | Predicción: 0 | Error: 0.0\n",
      "Sumatoria: [2.77114029] | Predicción: 1 | Error: 0.0\n",
      "Sumatoria: [-6.98088503] | Predicción: 0 | Error: 0.0\n",
      "Sumatoria: [2.8859853] | Predicción: 1 | Error: 0.0\n",
      "Sumatoria: [-5.7464054] | Predicción: 0 | Error: 0.0\n",
      "Sumatoria: [2.70056271] | Predicción: 1 | Error: 0.0\n",
      "Sumatoria: [3.30373687] | Predicción: 1 | Error: 0.0\n",
      "Sumatoria: [-4.87277004] | Predicción: 0 | Error: 0.0\n",
      "Sumatoria: [-5.3026649] | Predicción: 0 | Error: 0.0\n",
      "Exactitud: 1.0\n"
     ]
    }
   ],
   "source": [
    "x = 0\n",
    "for i in range(len(x_test)):\n",
    "    Suma = sumaMuchos((x_test.values[i][0]*pesos[0]),(x_test.values[i][1]*pesos[1]),(x_test.values[i][2]*pesos[2]), (x_test.values[i][3]*pesos[3]))\n",
    "    y_pred = activacion(Suma)\n",
    "    err = error(x_test.values[i][4], y_pred)\n",
    "    if err == 0:\n",
    "        x += 1\n",
    "    print(f\"Sumatoria: {Suma} | Predicción: {y_pred} | Error: {err}\")\n",
    "    # print(f\"Real: {x_test.values[i][4]} Predicción: {y_pred} Error: {err}\")\n",
    "print(f\"Exactitud: {x/len(x_test)}\")"
   ]
  },
  {
   "cell_type": "code",
   "execution_count": 48,
   "metadata": {},
   "outputs": [],
   "source": [
    "# x_train.head(), y_train.head()"
   ]
  },
  {
   "cell_type": "code",
   "execution_count": 49,
   "metadata": {},
   "outputs": [],
   "source": [
    "# x_test.head(), y_test.head()"
   ]
  },
  {
   "cell_type": "markdown",
   "metadata": {},
   "source": [
    "### Bill_authentication.csv"
   ]
  },
  {
   "cell_type": "markdown",
   "metadata": {},
   "source": [
    "#### Preprocesamiento"
   ]
  },
  {
   "cell_type": "code",
   "execution_count": 50,
   "metadata": {},
   "outputs": [],
   "source": [
    "# Cargar el dataset.\n",
    "# df2 = pd.read_csv(\"C:/Programacion/Python/Redes_Neuronales/bill_authentication.csv\")\n",
    "df2 = pd.read_csv(\"C:/Users/Cristian/Programacion/Python/Redes_Neuronales/bill_authentication.csv\")"
   ]
  },
  {
   "cell_type": "code",
   "execution_count": 51,
   "metadata": {},
   "outputs": [
    {
     "data": {
      "text/plain": [
       "Class\n",
       "0    762\n",
       "1    610\n",
       "Name: count, dtype: int64"
      ]
     },
     "execution_count": 51,
     "metadata": {},
     "output_type": "execute_result"
    }
   ],
   "source": [
    "df2[\"Class\"].value_counts()"
   ]
  },
  {
   "cell_type": "markdown",
   "metadata": {},
   "source": [
    "#### Observaciones\n",
    "* No es necesario aplicar discretización, ya que los valores de las clases son 0 y 1"
   ]
  },
  {
   "cell_type": "code",
   "execution_count": 52,
   "metadata": {},
   "outputs": [
    {
     "data": {
      "text/html": [
       "<div>\n",
       "<style scoped>\n",
       "    .dataframe tbody tr th:only-of-type {\n",
       "        vertical-align: middle;\n",
       "    }\n",
       "\n",
       "    .dataframe tbody tr th {\n",
       "        vertical-align: top;\n",
       "    }\n",
       "\n",
       "    .dataframe thead th {\n",
       "        text-align: right;\n",
       "    }\n",
       "</style>\n",
       "<table border=\"1\" class=\"dataframe\">\n",
       "  <thead>\n",
       "    <tr style=\"text-align: right;\">\n",
       "      <th></th>\n",
       "      <th>Variance</th>\n",
       "      <th>Skewness</th>\n",
       "      <th>Curtosis</th>\n",
       "      <th>Entropy</th>\n",
       "      <th>Class</th>\n",
       "    </tr>\n",
       "  </thead>\n",
       "  <tbody>\n",
       "    <tr>\n",
       "      <th>0</th>\n",
       "      <td>3.62160</td>\n",
       "      <td>8.6661</td>\n",
       "      <td>-2.8073</td>\n",
       "      <td>-0.44699</td>\n",
       "      <td>0</td>\n",
       "    </tr>\n",
       "    <tr>\n",
       "      <th>1</th>\n",
       "      <td>4.54590</td>\n",
       "      <td>8.1674</td>\n",
       "      <td>-2.4586</td>\n",
       "      <td>-1.46210</td>\n",
       "      <td>0</td>\n",
       "    </tr>\n",
       "    <tr>\n",
       "      <th>2</th>\n",
       "      <td>3.86600</td>\n",
       "      <td>-2.6383</td>\n",
       "      <td>1.9242</td>\n",
       "      <td>0.10645</td>\n",
       "      <td>0</td>\n",
       "    </tr>\n",
       "    <tr>\n",
       "      <th>3</th>\n",
       "      <td>3.45660</td>\n",
       "      <td>9.5228</td>\n",
       "      <td>-4.0112</td>\n",
       "      <td>-3.59440</td>\n",
       "      <td>0</td>\n",
       "    </tr>\n",
       "    <tr>\n",
       "      <th>4</th>\n",
       "      <td>0.32924</td>\n",
       "      <td>-4.4552</td>\n",
       "      <td>4.5718</td>\n",
       "      <td>-0.98880</td>\n",
       "      <td>0</td>\n",
       "    </tr>\n",
       "  </tbody>\n",
       "</table>\n",
       "</div>"
      ],
      "text/plain": [
       "   Variance  Skewness  Curtosis  Entropy  Class\n",
       "0   3.62160    8.6661   -2.8073 -0.44699      0\n",
       "1   4.54590    8.1674   -2.4586 -1.46210      0\n",
       "2   3.86600   -2.6383    1.9242  0.10645      0\n",
       "3   3.45660    9.5228   -4.0112 -3.59440      0\n",
       "4   0.32924   -4.4552    4.5718 -0.98880      0"
      ]
     },
     "execution_count": 52,
     "metadata": {},
     "output_type": "execute_result"
    }
   ],
   "source": [
    "df2.head()"
   ]
  },
  {
   "cell_type": "code",
   "execution_count": 53,
   "metadata": {},
   "outputs": [],
   "source": [
    "np.random.seed(5)\n",
    "weights2 = np.random.rand(4, 1)"
   ]
  },
  {
   "cell_type": "markdown",
   "metadata": {},
   "source": [
    "#### Entrenamiento Bill Authentication"
   ]
  },
  {
   "cell_type": "code",
   "execution_count": 54,
   "metadata": {},
   "outputs": [],
   "source": [
    "# Datos de entrenamiento y prueba con libreria sklearn.\n",
    "from sklearn.model_selection import train_test_split\n",
    "\n",
    "X2 = df2.copy()\n",
    "y2 = df2.copy()\n",
    "y2 = y2['Class'] \n",
    "\n",
    "x_train2, x_test2, y_train2, y_test2 = train_test_split(X2, y2 ,test_size=0.2, random_state=42)"
   ]
  },
  {
   "cell_type": "code",
   "execution_count": 98,
   "metadata": {},
   "outputs": [
    {
     "name": "stdout",
     "output_type": "stream",
     "text": [
      "Epocas: 1001\n",
      "Pesos finales: [[-14.16782588]\n",
      " [ -9.33723179]\n",
      " [ -5.68845334]\n",
      " [ -4.83749941]]\n"
     ]
    }
   ],
   "source": [
    "pesos2 = entrenamiento(x_train2, weights2, 0.3, 1000)"
   ]
  },
  {
   "cell_type": "markdown",
   "metadata": {},
   "source": [
    "#### Prueba Bill Authentication"
   ]
  },
  {
   "cell_type": "code",
   "execution_count": null,
   "metadata": {},
   "outputs": [
    {
     "name": "stdout",
     "output_type": "stream",
     "text": [
      "Sumatoria: [-60.38945457] | Predicción: 0 | Error: 0.0\n",
      "Sumatoria: [-34.97489008] | Predicción: 0 | Error: 0.0\n",
      "Sumatoria: [-31.41683856] | Predicción: 0 | Error: 0.0\n",
      "Sumatoria: [-61.28475154] | Predicción: 0 | Error: 0.0\n",
      "Sumatoria: [-89.37096796] | Predicción: 0 | Error: 0.0\n",
      "Sumatoria: [-60.34424742] | Predicción: 0 | Error: 0.0\n",
      "Sumatoria: [-67.62376627] | Predicción: 0 | Error: 0.0\n",
      "Sumatoria: [-99.71813261] | Predicción: 0 | Error: 0.0\n",
      "Sumatoria: [-76.93521718] | Predicción: 0 | Error: 0.0\n",
      "Sumatoria: [-74.60083918] | Predicción: 0 | Error: 0.0\n",
      "Sumatoria: [-22.52736535] | Predicción: 0 | Error: 1.0\n",
      "Sumatoria: [6.63621627] | Predicción: 1 | Error: 0.0\n",
      "Sumatoria: [-38.87846115] | Predicción: 0 | Error: 0.0\n",
      "Sumatoria: [40.66323799] | Predicción: 1 | Error: 0.0\n",
      "Sumatoria: [-35.39341571] | Predicción: 0 | Error: 0.0\n",
      "Sumatoria: [-19.52272167] | Predicción: 0 | Error: 1.0\n",
      "Sumatoria: [19.42023808] | Predicción: 1 | Error: 0.0\n",
      "Sumatoria: [19.29844006] | Predicción: 1 | Error: 0.0\n",
      "Sumatoria: [80.41942693] | Predicción: 1 | Error: 0.0\n",
      "Sumatoria: [13.67533112] | Predicción: 1 | Error: 0.0\n",
      "Sumatoria: [-83.35820745] | Predicción: 0 | Error: 0.0\n",
      "Sumatoria: [-65.12954693] | Predicción: 0 | Error: 0.0\n",
      "Sumatoria: [9.58071845] | Predicción: 1 | Error: 0.0\n",
      "Sumatoria: [-104.26759319] | Predicción: 0 | Error: 0.0\n",
      "Sumatoria: [38.14230075] | Predicción: 1 | Error: 0.0\n",
      "Sumatoria: [-96.54609282] | Predicción: 0 | Error: 0.0\n",
      "Sumatoria: [-90.37385904] | Predicción: 0 | Error: 0.0\n",
      "Sumatoria: [39.09127592] | Predicción: 1 | Error: 0.0\n",
      "Sumatoria: [-117.09137531] | Predicción: 0 | Error: 0.0\n",
      "Sumatoria: [-117.82919751] | Predicción: 0 | Error: 0.0\n",
      "Sumatoria: [19.17439128] | Predicción: 1 | Error: 0.0\n",
      "Sumatoria: [-58.57028171] | Predicción: 0 | Error: 0.0\n",
      "Sumatoria: [-43.5299828] | Predicción: 0 | Error: 0.0\n",
      "Sumatoria: [39.89698967] | Predicción: 1 | Error: 0.0\n",
      "Sumatoria: [35.0242935] | Predicción: 1 | Error: 0.0\n",
      "Sumatoria: [-97.68357522] | Predicción: 0 | Error: 0.0\n",
      "Sumatoria: [-25.57919728] | Predicción: 0 | Error: 1.0\n",
      "Sumatoria: [5.16390712] | Predicción: 1 | Error: 0.0\n",
      "Sumatoria: [13.84095315] | Predicción: 1 | Error: 0.0\n",
      "Sumatoria: [-65.25251524] | Predicción: 0 | Error: 0.0\n",
      "Sumatoria: [-49.72178079] | Predicción: 0 | Error: 0.0\n",
      "Sumatoria: [18.91236355] | Predicción: 1 | Error: 0.0\n",
      "Sumatoria: [0.12576645] | Predicción: 1 | Error: 0.0\n",
      "Sumatoria: [-81.63920749] | Predicción: 0 | Error: 0.0\n",
      "Sumatoria: [32.87954246] | Predicción: 1 | Error: 0.0\n",
      "Sumatoria: [59.29913538] | Predicción: 1 | Error: 0.0\n",
      "Sumatoria: [28.09219349] | Predicción: 1 | Error: 0.0\n",
      "Sumatoria: [-34.30053538] | Predicción: 0 | Error: 0.0\n",
      "Sumatoria: [-13.2587593] | Predicción: 0 | Error: 0.0\n",
      "Sumatoria: [-13.7570229] | Predicción: 0 | Error: 1.0\n",
      "Sumatoria: [-43.41935827] | Predicción: 0 | Error: 0.0\n",
      "Sumatoria: [-106.87246211] | Predicción: 0 | Error: 0.0\n",
      "Sumatoria: [-50.13385904] | Predicción: 0 | Error: 0.0\n",
      "Sumatoria: [-95.54753145] | Predicción: 0 | Error: 0.0\n",
      "Sumatoria: [-56.80986781] | Predicción: 0 | Error: 0.0\n",
      "Sumatoria: [-6.86016657] | Predicción: 0 | Error: 1.0\n",
      "Sumatoria: [-24.73850645] | Predicción: 0 | Error: 0.0\n",
      "Sumatoria: [-107.99473987] | Predicción: 0 | Error: 0.0\n",
      "Sumatoria: [-36.72079475] | Predicción: 0 | Error: 0.0\n",
      "Sumatoria: [-90.95601897] | Predicción: 0 | Error: 0.0\n",
      "Sumatoria: [49.38060136] | Predicción: 1 | Error: 0.0\n",
      "Sumatoria: [-69.15156422] | Predicción: 0 | Error: 0.0\n",
      "Sumatoria: [13.80643069] | Predicción: 1 | Error: 0.0\n",
      "Sumatoria: [-93.94520348] | Predicción: 0 | Error: 0.0\n",
      "Sumatoria: [-52.77136546] | Predicción: 0 | Error: 0.0\n",
      "Sumatoria: [-101.14927924] | Predicción: 0 | Error: 0.0\n",
      "Sumatoria: [-81.44606558] | Predicción: 0 | Error: 0.0\n",
      "Sumatoria: [-85.38916448] | Predicción: 0 | Error: 0.0\n",
      "Sumatoria: [-9.10960916] | Predicción: 0 | Error: 0.0\n",
      "Sumatoria: [17.03400627] | Predicción: 1 | Error: 0.0\n",
      "Sumatoria: [37.02616557] | Predicción: 1 | Error: 0.0\n",
      "Sumatoria: [-76.72157908] | Predicción: 0 | Error: 0.0\n",
      "Sumatoria: [58.37382617] | Predicción: 1 | Error: 0.0\n",
      "Sumatoria: [-115.50138035] | Predicción: 0 | Error: 0.0\n",
      "Sumatoria: [4.08164037] | Predicción: 1 | Error: 0.0\n",
      "Sumatoria: [11.44780071] | Predicción: 1 | Error: -1.0\n",
      "Sumatoria: [-54.05285232] | Predicción: 0 | Error: 0.0\n",
      "Sumatoria: [8.51969431] | Predicción: 1 | Error: 0.0\n",
      "Sumatoria: [22.20671811] | Predicción: 1 | Error: 0.0\n",
      "Sumatoria: [-5.56274955] | Predicción: 0 | Error: 1.0\n",
      "Sumatoria: [3.2922505] | Predicción: 1 | Error: 0.0\n",
      "Sumatoria: [-21.75475681] | Predicción: 0 | Error: 0.0\n",
      "Sumatoria: [8.88039892] | Predicción: 1 | Error: 0.0\n",
      "Sumatoria: [-67.92172238] | Predicción: 0 | Error: 0.0\n",
      "Sumatoria: [-1.32666968] | Predicción: 0 | Error: 0.0\n",
      "Sumatoria: [-102.11249874] | Predicción: 0 | Error: 0.0\n",
      "Sumatoria: [-98.10564792] | Predicción: 0 | Error: 0.0\n",
      "Sumatoria: [25.10874955] | Predicción: 1 | Error: 0.0\n",
      "Sumatoria: [4.12361698] | Predicción: 1 | Error: 0.0\n",
      "Sumatoria: [-85.25788256] | Predicción: 0 | Error: 0.0\n",
      "Sumatoria: [-103.82526392] | Predicción: 0 | Error: 0.0\n",
      "Sumatoria: [-74.60716008] | Predicción: 0 | Error: 0.0\n",
      "Sumatoria: [-5.42565966] | Predicción: 0 | Error: 1.0\n",
      "Sumatoria: [-0.94206364] | Predicción: 0 | Error: 1.0\n",
      "Sumatoria: [-67.24537711] | Predicción: 0 | Error: 0.0\n",
      "Sumatoria: [56.99489053] | Predicción: 1 | Error: 0.0\n",
      "Sumatoria: [36.26585628] | Predicción: 1 | Error: 0.0\n",
      "Sumatoria: [-36.69862981] | Predicción: 0 | Error: 0.0\n",
      "Sumatoria: [-80.84816637] | Predicción: 0 | Error: 0.0\n",
      "Sumatoria: [-55.8277936] | Predicción: 0 | Error: 0.0\n",
      "Sumatoria: [79.0077753] | Predicción: 1 | Error: 0.0\n",
      "Sumatoria: [-66.53638488] | Predicción: 0 | Error: 0.0\n",
      "Sumatoria: [-64.83899445] | Predicción: 0 | Error: 0.0\n",
      "Sumatoria: [-74.93057679] | Predicción: 0 | Error: 0.0\n",
      "Sumatoria: [43.91067845] | Predicción: 1 | Error: 0.0\n",
      "Sumatoria: [-103.51701027] | Predicción: 0 | Error: 0.0\n",
      "Sumatoria: [-77.13184402] | Predicción: 0 | Error: 0.0\n",
      "Sumatoria: [5.07957638] | Predicción: 1 | Error: 0.0\n",
      "Sumatoria: [87.34915844] | Predicción: 1 | Error: 0.0\n",
      "Sumatoria: [55.88820108] | Predicción: 1 | Error: 0.0\n",
      "Sumatoria: [27.93721112] | Predicción: 1 | Error: 0.0\n",
      "Sumatoria: [-16.15929791] | Predicción: 0 | Error: 1.0\n",
      "Sumatoria: [-80.12949331] | Predicción: 0 | Error: 0.0\n",
      "Sumatoria: [25.3398416] | Predicción: 1 | Error: 0.0\n",
      "Sumatoria: [34.55698458] | Predicción: 1 | Error: 0.0\n",
      "Sumatoria: [48.16886985] | Predicción: 1 | Error: 0.0\n",
      "Sumatoria: [-111.41420293] | Predicción: 0 | Error: 0.0\n",
      "Sumatoria: [56.87172973] | Predicción: 1 | Error: 0.0\n",
      "Sumatoria: [116.69631721] | Predicción: 1 | Error: 0.0\n",
      "Sumatoria: [-91.11019113] | Predicción: 0 | Error: 0.0\n",
      "Sumatoria: [48.62087602] | Predicción: 1 | Error: 0.0\n",
      "Sumatoria: [-59.66623551] | Predicción: 0 | Error: 0.0\n",
      "Sumatoria: [-23.65831814] | Predicción: 0 | Error: 1.0\n",
      "Sumatoria: [-90.0773881] | Predicción: 0 | Error: 0.0\n",
      "Sumatoria: [2.00211866] | Predicción: 1 | Error: 0.0\n",
      "Sumatoria: [-68.02082424] | Predicción: 0 | Error: 0.0\n",
      "Sumatoria: [47.35124737] | Predicción: 1 | Error: 0.0\n",
      "Sumatoria: [5.95387467] | Predicción: 1 | Error: 0.0\n",
      "Sumatoria: [-69.4705239] | Predicción: 0 | Error: 0.0\n",
      "Sumatoria: [20.45176113] | Predicción: 1 | Error: 0.0\n",
      "Sumatoria: [36.77449307] | Predicción: 1 | Error: 0.0\n",
      "Sumatoria: [-52.9401977] | Predicción: 0 | Error: 0.0\n",
      "Sumatoria: [-45.92207993] | Predicción: 0 | Error: 0.0\n",
      "Sumatoria: [-56.17397778] | Predicción: 0 | Error: 0.0\n",
      "Sumatoria: [-88.84123791] | Predicción: 0 | Error: 0.0\n",
      "Sumatoria: [-37.54752779] | Predicción: 0 | Error: 0.0\n",
      "Sumatoria: [24.3207427] | Predicción: 1 | Error: 0.0\n",
      "Sumatoria: [-96.32643656] | Predicción: 0 | Error: 0.0\n",
      "Sumatoria: [-70.28326658] | Predicción: 0 | Error: 0.0\n",
      "Sumatoria: [-21.27840468] | Predicción: 0 | Error: 0.0\n",
      "Sumatoria: [-93.18647382] | Predicción: 0 | Error: 0.0\n",
      "Sumatoria: [-30.349764] | Predicción: 0 | Error: 0.0\n",
      "Sumatoria: [56.28877776] | Predicción: 1 | Error: 0.0\n",
      "Sumatoria: [-10.75580598] | Predicción: 0 | Error: 0.0\n",
      "Sumatoria: [-8.18486378] | Predicción: 0 | Error: 1.0\n",
      "Sumatoria: [-29.15814795] | Predicción: 0 | Error: 1.0\n",
      "Sumatoria: [-5.45992534] | Predicción: 0 | Error: 1.0\n",
      "Sumatoria: [7.09936327] | Predicción: 1 | Error: 0.0\n",
      "Sumatoria: [18.04324905] | Predicción: 1 | Error: 0.0\n",
      "Sumatoria: [-97.9274722] | Predicción: 0 | Error: 0.0\n",
      "Sumatoria: [-14.62253061] | Predicción: 0 | Error: 1.0\n",
      "Sumatoria: [-0.28988706] | Predicción: 0 | Error: 1.0\n",
      "Sumatoria: [112.57721762] | Predicción: 1 | Error: 0.0\n",
      "Sumatoria: [-106.17414323] | Predicción: 0 | Error: 0.0\n",
      "Sumatoria: [-13.29054483] | Predicción: 0 | Error: 1.0\n",
      "Sumatoria: [-92.26792496] | Predicción: 0 | Error: 0.0\n",
      "Sumatoria: [-7.12843261] | Predicción: 0 | Error: 1.0\n",
      "Sumatoria: [-71.07866236] | Predicción: 0 | Error: 0.0\n",
      "Sumatoria: [-83.06565455] | Predicción: 0 | Error: 0.0\n",
      "Sumatoria: [-60.27393204] | Predicción: 0 | Error: 0.0\n",
      "Sumatoria: [40.41362651] | Predicción: 1 | Error: 0.0\n",
      "Sumatoria: [50.07761838] | Predicción: 1 | Error: 0.0\n",
      "Sumatoria: [32.15928684] | Predicción: 1 | Error: 0.0\n",
      "Sumatoria: [1.910832] | Predicción: 1 | Error: 0.0\n",
      "Sumatoria: [-5.07096512] | Predicción: 0 | Error: 1.0\n",
      "Sumatoria: [-101.36882737] | Predicción: 0 | Error: 0.0\n",
      "Sumatoria: [44.48469953] | Predicción: 1 | Error: 0.0\n",
      "Sumatoria: [-70.71280581] | Predicción: 0 | Error: 0.0\n",
      "Sumatoria: [-105.67876683] | Predicción: 0 | Error: 0.0\n",
      "Sumatoria: [-34.75843751] | Predicción: 0 | Error: 0.0\n",
      "Sumatoria: [-35.54437525] | Predicción: 0 | Error: 0.0\n",
      "Sumatoria: [-83.4287089] | Predicción: 0 | Error: 0.0\n",
      "Sumatoria: [-75.13861535] | Predicción: 0 | Error: 0.0\n",
      "Sumatoria: [29.41827861] | Predicción: 1 | Error: 0.0\n",
      "Sumatoria: [-44.2536312] | Predicción: 0 | Error: 0.0\n",
      "Sumatoria: [-43.93633316] | Predicción: 0 | Error: 0.0\n",
      "Sumatoria: [21.77970681] | Predicción: 1 | Error: 0.0\n",
      "Sumatoria: [45.17691392] | Predicción: 1 | Error: 0.0\n",
      "Sumatoria: [-62.56074641] | Predicción: 0 | Error: 0.0\n",
      "Sumatoria: [-105.43436428] | Predicción: 0 | Error: 0.0\n",
      "Sumatoria: [-15.96022666] | Predicción: 0 | Error: 0.0\n",
      "Sumatoria: [-51.45950119] | Predicción: 0 | Error: 0.0\n",
      "Sumatoria: [44.82862259] | Predicción: 1 | Error: 0.0\n",
      "Sumatoria: [-71.73115198] | Predicción: 0 | Error: 0.0\n",
      "Sumatoria: [51.08660971] | Predicción: 1 | Error: 0.0\n",
      "Sumatoria: [-97.9022853] | Predicción: 0 | Error: 0.0\n",
      "Sumatoria: [105.86310919] | Predicción: 1 | Error: 0.0\n",
      "Sumatoria: [14.59366841] | Predicción: 1 | Error: 0.0\n",
      "Sumatoria: [-87.74620391] | Predicción: 0 | Error: 0.0\n",
      "Sumatoria: [-93.00917626] | Predicción: 0 | Error: 0.0\n",
      "Sumatoria: [12.23746435] | Predicción: 1 | Error: 0.0\n",
      "Sumatoria: [-80.64946364] | Predicción: 0 | Error: 0.0\n",
      "Sumatoria: [-70.61236447] | Predicción: 0 | Error: 0.0\n",
      "Sumatoria: [79.50330644] | Predicción: 1 | Error: 0.0\n",
      "Sumatoria: [28.3869851] | Predicción: 1 | Error: 0.0\n",
      "Sumatoria: [1.07053974] | Predicción: 1 | Error: 0.0\n",
      "Sumatoria: [-6.94959319] | Predicción: 0 | Error: 1.0\n",
      "Sumatoria: [-42.40229155] | Predicción: 0 | Error: 0.0\n",
      "Sumatoria: [-34.58585958] | Predicción: 0 | Error: 0.0\n",
      "Sumatoria: [32.5432812] | Predicción: 1 | Error: 0.0\n",
      "Sumatoria: [62.01436165] | Predicción: 1 | Error: 0.0\n",
      "Sumatoria: [31.71548473] | Predicción: 1 | Error: 0.0\n",
      "Sumatoria: [-70.50107729] | Predicción: 0 | Error: 0.0\n",
      "Sumatoria: [-49.8242212] | Predicción: 0 | Error: 0.0\n",
      "Sumatoria: [20.25201052] | Predicción: 1 | Error: 0.0\n",
      "Sumatoria: [77.25112863] | Predicción: 1 | Error: 0.0\n",
      "Sumatoria: [54.64328531] | Predicción: 1 | Error: 0.0\n",
      "Sumatoria: [7.56537273] | Predicción: 1 | Error: 0.0\n",
      "Sumatoria: [-30.84964644] | Predicción: 0 | Error: 0.0\n",
      "Sumatoria: [-89.04173635] | Predicción: 0 | Error: 0.0\n",
      "Sumatoria: [-10.40004449] | Predicción: 0 | Error: 0.0\n",
      "Sumatoria: [-92.54829913] | Predicción: 0 | Error: 0.0\n",
      "Sumatoria: [-58.90223687] | Predicción: 0 | Error: 0.0\n",
      "Sumatoria: [-51.10007919] | Predicción: 0 | Error: 0.0\n",
      "Sumatoria: [-115.88702755] | Predicción: 0 | Error: 0.0\n",
      "Sumatoria: [-93.21729485] | Predicción: 0 | Error: 0.0\n",
      "Sumatoria: [11.44780071] | Predicción: 1 | Error: -1.0\n",
      "Sumatoria: [-61.75106522] | Predicción: 0 | Error: 0.0\n",
      "Sumatoria: [36.66708531] | Predicción: 1 | Error: 0.0\n",
      "Sumatoria: [44.11146486] | Predicción: 1 | Error: 0.0\n",
      "Sumatoria: [52.8799979] | Predicción: 1 | Error: 0.0\n",
      "Sumatoria: [56.07638464] | Predicción: 1 | Error: 0.0\n",
      "Sumatoria: [29.98973988] | Predicción: 1 | Error: 0.0\n",
      "Sumatoria: [-22.19793478] | Predicción: 0 | Error: 0.0\n",
      "Sumatoria: [8.05801582] | Predicción: 1 | Error: 0.0\n",
      "Sumatoria: [-63.82055304] | Predicción: 0 | Error: 0.0\n",
      "Sumatoria: [-67.27321978] | Predicción: 0 | Error: 0.0\n",
      "Sumatoria: [58.71866155] | Predicción: 1 | Error: 0.0\n",
      "Sumatoria: [87.9106142] | Predicción: 1 | Error: 0.0\n",
      "Sumatoria: [61.24748713] | Predicción: 1 | Error: 0.0\n",
      "Sumatoria: [33.96912705] | Predicción: 1 | Error: 0.0\n",
      "Sumatoria: [-70.58561911] | Predicción: 0 | Error: 0.0\n",
      "Sumatoria: [-6.65144035] | Predicción: 0 | Error: 1.0\n",
      "Sumatoria: [-90.04711607] | Predicción: 0 | Error: 0.0\n",
      "Sumatoria: [35.33622623] | Predicción: 1 | Error: 0.0\n",
      "Sumatoria: [56.42323917] | Predicción: 1 | Error: 0.0\n",
      "Sumatoria: [-2.87944068] | Predicción: 0 | Error: 1.0\n",
      "Sumatoria: [29.23626467] | Predicción: 1 | Error: 0.0\n",
      "Sumatoria: [-86.7298044] | Predicción: 0 | Error: 0.0\n",
      "Sumatoria: [-46.24522827] | Predicción: 0 | Error: 0.0\n",
      "Sumatoria: [-55.32145314] | Predicción: 0 | Error: 0.0\n",
      "Sumatoria: [76.52900698] | Predicción: 1 | Error: 0.0\n",
      "Sumatoria: [-50.3583965] | Predicción: 0 | Error: 0.0\n",
      "Sumatoria: [32.89184072] | Predicción: 1 | Error: 0.0\n",
      "Sumatoria: [8.45634094] | Predicción: 1 | Error: 0.0\n",
      "Sumatoria: [48.82648072] | Predicción: 1 | Error: 0.0\n",
      "Sumatoria: [-51.63381986] | Predicción: 0 | Error: 0.0\n",
      "Sumatoria: [-97.33900369] | Predicción: 0 | Error: 0.0\n",
      "Sumatoria: [-106.32013503] | Predicción: 0 | Error: 0.0\n",
      "Sumatoria: [-14.92287939] | Predicción: 0 | Error: 0.0\n",
      "Sumatoria: [-121.59125668] | Predicción: 0 | Error: 0.0\n",
      "Sumatoria: [-76.84326616] | Predicción: 0 | Error: 0.0\n",
      "Sumatoria: [62.26714442] | Predicción: 1 | Error: 0.0\n",
      "Sumatoria: [-18.69234215] | Predicción: 0 | Error: 0.0\n",
      "Sumatoria: [-30.88990221] | Predicción: 0 | Error: 1.0\n",
      "Sumatoria: [-57.12336624] | Predicción: 0 | Error: 0.0\n",
      "Sumatoria: [-90.7694947] | Predicción: 0 | Error: 0.0\n",
      "Sumatoria: [-51.40979187] | Predicción: 0 | Error: 0.0\n",
      "Sumatoria: [43.53560986] | Predicción: 1 | Error: 0.0\n",
      "Sumatoria: [48.66752239] | Predicción: 1 | Error: 0.0\n",
      "Sumatoria: [-7.7681411] | Predicción: 0 | Error: 0.0\n",
      "Sumatoria: [-26.77734754] | Predicción: 0 | Error: 0.0\n",
      "Sumatoria: [-92.89928508] | Predicción: 0 | Error: 0.0\n",
      "Sumatoria: [13.30053273] | Predicción: 1 | Error: 0.0\n",
      "Sumatoria: [-0.26319502] | Predicción: 0 | Error: 1.0\n",
      "Sumatoria: [-90.0258067] | Predicción: 0 | Error: 0.0\n",
      "Sumatoria: [10.66249727] | Predicción: 1 | Error: 0.0\n",
      "Sumatoria: [-81.85623339] | Predicción: 0 | Error: 0.0\n",
      "Sumatoria: [32.79492278] | Predicción: 1 | Error: 0.0\n",
      "Sumatoria: [19.95822717] | Predicción: 1 | Error: 0.0\n",
      "Sumatoria: [16.43249465] | Predicción: 1 | Error: 0.0\n",
      "Sumatoria: [-22.54221816] | Predicción: 0 | Error: 1.0\n",
      "Sumatoria: [-29.27405109] | Predicción: 0 | Error: 0.0\n",
      "Sumatoria: [-34.97517318] | Predicción: 0 | Error: 0.0\n",
      "Sumatoria: [-88.4925726] | Predicción: 0 | Error: 0.0\n",
      "Exactitud: 0.9054545454545454\n"
     ]
    }
   ],
   "source": [
    "x2 = 0\n",
    "for i in range(len(x_test2)):\n",
    "    Suma2 = sumaMuchos((x_test2.values[i][0]*pesos2[0]),(x_test2.values[i][1]*pesos2[1]),(x_test2.values[i][2]*pesos2[2]), (x_test2.values[i][3]*pesos2[3]))\n",
    "    y_pred2 = activacion(Suma2)\n",
    "    err2 = error(x_test2.values[i][4], y_pred2)\n",
    "    if err2 == 0:\n",
    "        x2 += 1\n",
    "    print(f\"Sumatoria: {Suma2} | Predicción: {y_pred2} | Error: {err2}\")\n",
    "print(f\"Exactitud: {x2/len(x_test2)}\")"
   ]
  }
 ],
 "metadata": {
  "kernelspec": {
   "display_name": "Python 3",
   "language": "python",
   "name": "python3"
  },
  "language_info": {
   "codemirror_mode": {
    "name": "ipython",
    "version": 3
   },
   "file_extension": ".py",
   "mimetype": "text/x-python",
   "name": "python",
   "nbconvert_exporter": "python",
   "pygments_lexer": "ipython3",
   "version": "3.12.6"
  }
 },
 "nbformat": 4,
 "nbformat_minor": 2
}
